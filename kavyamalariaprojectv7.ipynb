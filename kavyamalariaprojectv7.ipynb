{
  "nbformat": 4,
  "nbformat_minor": 0,
  "metadata": {
    "colab": {
      "name": "kavyamalariaprojectv7.ipynb",
      "provenance": [],
      "collapsed_sections": [],
      "include_colab_link": true
    },
    "kernelspec": {
      "name": "python3",
      "display_name": "Python 3"
    },
    "accelerator": "GPU"
  },
  "cells": [
    {
      "cell_type": "markdown",
      "metadata": {
        "id": "view-in-github",
        "colab_type": "text"
      },
      "source": [
        "<a href=\"https://colab.research.google.com/github/kavyas2003/COSMOSColab/blob/main/kavyamalariaprojectv7.ipynb\" target=\"_parent\"><img src=\"https://colab.research.google.com/assets/colab-badge.svg\" alt=\"Open In Colab\"/></a>"
      ]
    },
    {
      "cell_type": "code",
      "metadata": {
        "id": "tLtbe7D5yhwQ"
      },
      "source": [
        "import numpy as np\n",
        "import matplotlib.pyplot as plt"
      ],
      "execution_count": null,
      "outputs": []
    },
    {
      "cell_type": "code",
      "metadata": {
        "id": "N6hwiKyayujU",
        "colab": {
          "base_uri": "https://localhost:8080/",
          "height": 34
        },
        "outputId": "39da7471-200f-450b-dcd2-867bdb226e95"
      },
      "source": [
        "import keras\n",
        "#import the layers used to build the neural network layers\n",
        "from keras.models import Sequential\n",
        "from keras.layers import Conv2D\n",
        "from keras.layers import MaxPooling2D\n",
        "from keras.layers import Flatten\n",
        "from keras.layers import Dense\n"
      ],
      "execution_count": null,
      "outputs": [
        {
          "output_type": "stream",
          "text": [
            "Using TensorFlow backend.\n"
          ],
          "name": "stderr"
        }
      ]
    },
    {
      "cell_type": "markdown",
      "metadata": {
        "id": "E4LQSZZlTI67"
      },
      "source": [
        ""
      ]
    },
    {
      "cell_type": "code",
      "metadata": {
        "id": "8fggsMybyynO",
        "colab": {
          "base_uri": "https://localhost:8080/",
          "height": 34
        },
        "outputId": "5bcbc9cd-7d1c-42d3-c154-8d56a7d348d6"
      },
      "source": [
        "from google.colab import drive\n",
        "drive.mount('/content/drive', force_remount=True)\n",
        "#connect to drive to access data"
      ],
      "execution_count": null,
      "outputs": [
        {
          "output_type": "stream",
          "text": [
            "Mounted at /content/drive\n"
          ],
          "name": "stdout"
        }
      ]
    },
    {
      "cell_type": "code",
      "metadata": {
        "id": "xYpSMb1Hy3Oi",
        "colab": {
          "base_uri": "https://localhost:8080/",
          "height": 85
        },
        "outputId": "971be9cc-7aeb-40ae-8741-1e3803ff1108"
      },
      "source": [
        "from keras.preprocessing.image import ImageDataGenerator\n",
        "#preprocess the images for data\n",
        "\n",
        "\n",
        "train_datagen = ImageDataGenerator(rescale = 1./255,\n",
        "shear_range = 0.2,\n",
        "zoom_range = 0.2,\n",
        "horizontal_flip = True)\n",
        "test_datagen = ImageDataGenerator(rescale = 1./255)\n",
        "\n",
        "train_generator = train_datagen.flow_from_directory(\n",
        "        '/content/drive/My Drive/train',  # this is the target directory\n",
        "        target_size=(150, 150),  # all images will be resized to 150x150\n",
        "        batch_size=16,\n",
        "        class_mode='binary')  # since we use binary_crossentropy loss, we need binary labels\n",
        "\n",
        "# this is a similar generator, for validation data\n",
        "validation_generator = test_datagen.flow_from_directory(\n",
        "        '/content/drive/My Drive/train',\n",
        "        target_size=(150, 150),\n",
        "        batch_size=16,\n",
        "        class_mode='binary')\n",
        "\n",
        "test_generator = test_datagen.flow_from_directory(\n",
        "        '/content/drive/My Drive/test',\n",
        "         target_size=(150,150),\n",
        "         batch_size=16,\n",
        "         class_mode='binary')\n",
        "\n",
        "print(type(train_generator))\n",
        "       \n",
        "  #preprocess the images to normalize the data \n"
      ],
      "execution_count": null,
      "outputs": [
        {
          "output_type": "stream",
          "text": [
            "Found 3214 images belonging to 2 classes.\n",
            "Found 3214 images belonging to 2 classes.\n",
            "Found 1000 images belonging to 2 classes.\n",
            "<class 'keras_preprocessing.image.directory_iterator.DirectoryIterator'>\n"
          ],
          "name": "stdout"
        }
      ]
    },
    {
      "cell_type": "code",
      "metadata": {
        "id": "8qhmCpQlzfnD",
        "colab": {
          "base_uri": "https://localhost:8080/",
          "height": 190
        },
        "outputId": "33d1d1b3-70fe-4d21-c2b8-9c3897489246"
      },
      "source": [
        "Dense = keras.layers.Dense #build the neural network and create all the layers \n",
        "Sequential = keras.Sequential\n",
        "classifier = Sequential()\n",
        "\n",
        "classifier.add(Conv2D(32, (3, 3), input_shape = (150 , 150, 3), activation = 'relu'))\n",
        "classifier.add(MaxPooling2D(pool_size = (2, 2)))\n",
        "classifier.add(MaxPooling2D(pool_size = (2, 2)))\n",
        "classifier.add(Flatten())\n",
        "classifier.add(Dense(128, activation = 'relu'))\n",
        "classifier.add(Dense(64, activation = 'relu'))\n",
        "classifier.add(Dense(32, activation = 'relu'))\n",
        "classifier.add(Dense(16, activation = 'relu'))\n",
        "classifier.add(Dense(1, activation = 'sigmoid'))"
      ],
      "execution_count": null,
      "outputs": [
        {
          "output_type": "stream",
          "text": [
            "WARNING: Logging before flag parsing goes to stderr.\n",
            "W0726 04:47:56.145720 139878159062912 deprecation_wrapper.py:119] From /usr/local/lib/python3.6/dist-packages/keras/backend/tensorflow_backend.py:74: The name tf.get_default_graph is deprecated. Please use tf.compat.v1.get_default_graph instead.\n",
            "\n",
            "W0726 04:47:56.173550 139878159062912 deprecation_wrapper.py:119] From /usr/local/lib/python3.6/dist-packages/keras/backend/tensorflow_backend.py:517: The name tf.placeholder is deprecated. Please use tf.compat.v1.placeholder instead.\n",
            "\n",
            "W0726 04:47:56.177875 139878159062912 deprecation_wrapper.py:119] From /usr/local/lib/python3.6/dist-packages/keras/backend/tensorflow_backend.py:4138: The name tf.random_uniform is deprecated. Please use tf.random.uniform instead.\n",
            "\n",
            "W0726 04:47:56.200733 139878159062912 deprecation_wrapper.py:119] From /usr/local/lib/python3.6/dist-packages/keras/backend/tensorflow_backend.py:3976: The name tf.nn.max_pool is deprecated. Please use tf.nn.max_pool2d instead.\n",
            "\n"
          ],
          "name": "stderr"
        }
      ]
    },
    {
      "cell_type": "code",
      "metadata": {
        "id": "aTr0gEbtzleS",
        "colab": {
          "base_uri": "https://localhost:8080/",
          "height": 357
        },
        "outputId": "7bb5c934-07fe-4e7a-eb2a-00312f1a05f2"
      },
      "source": [
        "classifier.compile(optimizer = 'adam', loss = 'binary_crossentropy', metrics = ['accuracy']) #train the model \n",
        "               # Train the model, iterating on the data in batches of 32 samples\n",
        "\n",
        "history = classifier.fit_generator(train_generator,\n",
        "          steps_per_epoch = 50,\n",
        "          epochs = 10,\n",
        "          validation_steps = 100, validation_data = validation_generator)\n",
        " #run the model on the validation data to test for accuracy \n",
        "\n"
      ],
      "execution_count": null,
      "outputs": [
        {
          "output_type": "stream",
          "text": [
            "Epoch 1/10\n",
            "50/50 [==============================] - 247s 5s/step - loss: 0.6723 - acc: 0.5975 - val_loss: 0.6278 - val_acc: 0.6619\n",
            "Epoch 2/10\n",
            "50/50 [==============================] - 33s 660ms/step - loss: 0.6453 - acc: 0.6500 - val_loss: 0.5858 - val_acc: 0.7090\n",
            "Epoch 3/10\n",
            "50/50 [==============================] - 27s 541ms/step - loss: 0.6209 - acc: 0.6700 - val_loss: 0.6082 - val_acc: 0.6606\n",
            "Epoch 4/10\n",
            "50/50 [==============================] - 27s 538ms/step - loss: 0.5781 - acc: 0.7155 - val_loss: 0.5412 - val_acc: 0.7397\n",
            "Epoch 5/10\n",
            "50/50 [==============================] - 27s 538ms/step - loss: 0.5247 - acc: 0.7588 - val_loss: 0.4898 - val_acc: 0.7906\n",
            "Epoch 6/10\n",
            "50/50 [==============================] - 27s 549ms/step - loss: 0.5257 - acc: 0.7863 - val_loss: 0.5839 - val_acc: 0.7153\n",
            "Epoch 7/10\n",
            "50/50 [==============================] - 29s 583ms/step - loss: 0.4978 - acc: 0.8013 - val_loss: 0.4189 - val_acc: 0.8050\n",
            "Epoch 8/10\n",
            "50/50 [==============================] - 29s 588ms/step - loss: 0.4046 - acc: 0.8266 - val_loss: 0.4120 - val_acc: 0.8310\n",
            "Epoch 9/10\n",
            "50/50 [==============================] - 25s 491ms/step - loss: 0.3584 - acc: 0.8738 - val_loss: 0.4443 - val_acc: 0.8462\n",
            "Epoch 10/10\n",
            "50/50 [==============================] - 13s 252ms/step - loss: 0.3082 - acc: 0.8812 - val_loss: 0.4503 - val_acc: 0.8573\n"
          ],
          "name": "stdout"
        }
      ]
    },
    {
      "cell_type": "code",
      "metadata": {
        "id": "yJ6M3upQ9P8D",
        "colab": {
          "base_uri": "https://localhost:8080/",
          "height": 51
        },
        "outputId": "6a749610-0d7b-4aad-d6f5-32da65fc0a74"
      },
      "source": [
        "result = classifier.evaluate_generator(generator = validation_generator, steps=50)\n",
        "print( \"Accuracy is:\", result[1])\n",
        "print( \"Loss is:\", result[0])"
      ],
      "execution_count": null,
      "outputs": [
        {
          "output_type": "stream",
          "text": [
            "Accuracy is: 0.85875\n",
            "Loss is: 0.43300108805298804\n"
          ],
          "name": "stdout"
        }
      ]
    },
    {
      "cell_type": "code",
      "metadata": {
        "id": "F7BKtjmBLA33",
        "colab": {
          "base_uri": "https://localhost:8080/",
          "height": 51
        },
        "outputId": "b7ee0d9f-9039-44b1-e1cc-c00dbd9f5f74"
      },
      "source": [
        "result = classifier.evaluate_generator(generator = test_generator, steps=50)\n",
        "print( \"Accuracy is:\", result[1])\n",
        "print( \"Loss is:\", result[0])\n",
        "\n",
        "#evaluate and print the loss and the accuracy"
      ],
      "execution_count": null,
      "outputs": [
        {
          "output_type": "stream",
          "text": [
            "Accuracy is: 0.8421717171717171\n",
            "Loss is: 0.6698626270799926\n"
          ],
          "name": "stdout"
        }
      ]
    },
    {
      "cell_type": "code",
      "metadata": {
        "id": "cMVej9E1QKNS",
        "colab": {
          "base_uri": "https://localhost:8080/",
          "height": 573
        },
        "outputId": "4106f7e1-cea0-468c-e62b-0e719313db54"
      },
      "source": [
        "plt.plot(history.history['acc'])\n",
        "plt.plot(history.history['val_acc'])\n",
        "plt.title('Model Accuracy')\n",
        "plt.ylabel('Accuracy')\n",
        "plt.xlabel('Number of epochs')\n",
        "plt.legend(['train', 'test'], loc='upper left')\n",
        "plt.show()\n",
        "#see the model's history and performance on the validation data\n",
        "#print the loss function\n",
        "plt.plot(history.history['loss'])\n",
        "plt.plot(history.history['val_loss'])\n",
        "plt.title('Model loss')\n",
        "plt.ylabel('Loss')\n",
        "plt.xlabel('Epoch')\n",
        "plt.legend(['Train', 'Test'], loc='upper left')\n",
        "plt.show()"
      ],
      "execution_count": null,
      "outputs": [
        {
          "output_type": "display_data",
          "data": {
            "image/png": "[encoded data removed]",
            "text/plain": [
              "<Figure size 432x288 with 1 Axes>"
            ]
          },
          "metadata": {
            "tags": []
          }
        },
        {
          "output_type": "display_data",
          "data": {
            "image/png": "[encoded data removed]",
            "text/plain": [
              "<Figure size 432x288 with 1 Axes>"
            ]
          },
          "metadata": {
            "tags": []
          }
        }
      ]
    }
  ]
}